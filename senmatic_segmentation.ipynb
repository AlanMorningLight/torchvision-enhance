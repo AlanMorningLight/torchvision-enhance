{
 "cells": [
  {
   "cell_type": "code",
   "execution_count": 1,
   "metadata": {
    "collapsed": true
   },
   "outputs": [],
   "source": [
    "%matplotlib inline\n",
    "import torch\n",
    "from torch.utils.data import Dataset, DataLoader\n",
    "from skimage.external import tifffile\n",
    "from PIL import Image\n",
    "import numpy as np\n",
    "import matplotlib.pyplot as plt\n",
    "from torchvision_multi import transform_multi\n",
    "from torchvision_multi.datasets import image_loader\n"
   ]
  },
  {
   "cell_type": "markdown",
   "metadata": {},
   "source": [
    "## for jpg"
   ]
  },
  {
   "cell_type": "code",
   "execution_count": 10,
   "metadata": {},
   "outputs": [
    {
     "name": "stdout",
     "output_type": "stream",
     "text": [
      "(500, 334) uint8\n",
      "(200, 200) int32\n",
      "\n",
      "\n",
      "(500, 334) uint8\n",
      "(200, 200) int32\n",
      "\n",
      "\n",
      "torch.Size([2, 3, 200, 200])\n",
      "<class 'numpy.ndarray'> (200, 200, 3)\n",
      "<class 'numpy.ndarray'> (200, 200, 3)\n",
      "\n",
      "\n",
      "target <class 'torch.LongTensor'> torch.Size([200, 200])\n",
      "target <class 'torch.LongTensor'> torch.Size([200, 200])\n",
      "\n",
      "\n",
      "(500, 334) uint8\n",
      "(200, 200) int32\n",
      "\n",
      "\n",
      "(500, 334) uint8\n",
      "(200, 200) int32\n",
      "\n",
      "\n",
      "torch.Size([2, 3, 200, 200])\n",
      "<class 'numpy.ndarray'> (200, 200, 3)\n",
      "<class 'numpy.ndarray'> (200, 200, 3)\n",
      "\n",
      "\n",
      "target <class 'torch.LongTensor'> torch.Size([200, 200])\n",
      "target <class 'torch.LongTensor'> torch.Size([200, 200])\n",
      "\n",
      "\n",
      "(500, 334) uint8\n",
      "(200, 200) int32\n",
      "\n",
      "\n",
      "(500, 334) uint8\n",
      "(200, 200) int32\n",
      "\n",
      "\n",
      "torch.Size([2, 3, 200, 200])\n",
      "<class 'numpy.ndarray'> (200, 200, 3)\n",
      "<class 'numpy.ndarray'> (200, 200, 3)\n",
      "\n",
      "\n",
      "target <class 'torch.LongTensor'> torch.Size([200, 200])\n",
      "target <class 'torch.LongTensor'> torch.Size([200, 200])\n",
      "\n",
      "\n"
     ]
    },
    {
     "data": {
      "image/png": "[encoded data removed]",
      "text/plain": [
       "<PIL.Image.Image image mode=RGB size=200x200 at 0x7F39B395B908>"
      ]
     },
     "execution_count": 10,
     "metadata": {},
     "output_type": "execute_result"
    }
   ],
   "source": [
    "import torch\n",
    "from torch.utils.data import Dataset, DataLoader\n",
    "from skimage.external import tifffile\n",
    "from PIL import Image\n",
    "import numpy as np\n",
    "# import matplotlib.pyplot as plt\n",
    "from torchvision_multi import transform_multi\n",
    "from torchvision_multi.datasets import image_loader\n",
    "\n",
    "\n",
    "# fig = plt.figure(figsize=(20, 6))\n",
    "# img_tif = tifffile.imread('./sample-data/7-channel.tif')\n",
    "# img_tif_addnoise = transform_multi.noise(img_tif,16,0,0.001)\n",
    "#\n",
    "# img_jpg = Image.open('./sample-data/2007_000129.jpg')\n",
    "# img_tif_addnoise = transform_multi.noise(img_tif,16)\n",
    "\n",
    "\n",
    "batch_size = 2\n",
    "transform = transform_multi.SegCompose([\n",
    "#     transform_multi.SegRandomRotate(1),\n",
    "#     transform_multi.SegRandomFlip(),\n",
    "#     transform_multi.SegRandomCrop((300,300)),\n",
    "#     transform_multi.SegRandomShift(1, 30, 30),\n",
    "#       transform_multi.SegRandomNoise(1,8,0,0.01),\n",
    "#         transform_multi.SegPad([(30,30),(30,30),(0,0)],\"reflect\"),\n",
    "       transform_multi.SegResize((200,200)),\n",
    "#       transform_multi.SegCenterCrop((200,200)),\n",
    "#       transform_multi.SegGaussianBlur(1),\n",
    "#     transform_multi.SegPieceTransfor(1,warp_left_right=10,warp_up_down=10),\n",
    "    transform_multi.SegToTensor()\n",
    "\n",
    "#     transform_multi.Lambda(lambda x: transform_multi.to_tensor(x))\n",
    "])\n",
    "\n",
    "trainset = image_loader.SemanticSegmentationLoader(\n",
    "    rootdir='./sample-data/', lstpath='./sample-data/segmentation.lst',\n",
    "    filetype='jpg', transform=transform,\n",
    ")\n",
    "# trainset = image_loader.SemanticSegmentationLoader(\n",
    "#     rootdir='./sample-data/', lstpath='./sample-data/segmentation.lst',\n",
    "#     filetype='jpg', transform=transform,\n",
    "# )\n",
    "\n",
    "trainloader = DataLoader(dataset=trainset, batch_size=batch_size, shuffle=False)\n",
    "\n",
    "for step, (inputs, targets) in enumerate(trainloader):\n",
    "    #     print('batch: {} ........'.format(idx))\n",
    "    #     print(type(images), images.shape)\n",
    "    #     print(type(targets), targets.shape)\n",
    "\n",
    "    # Variable, cuda\n",
    "    # net feed forward\n",
    "    # loss\n",
    "    # back propagation\n",
    "\n",
    "    # plot\n",
    "    print(inputs.shape)\n",
    "    for idx, item in enumerate(inputs):\n",
    "        item = torch.squeeze(item, 0)\n",
    "        img_ndarr = transform_multi.to_ndarray(item)\n",
    "        # subplot = int(''.join(str(x) for x in [1, batch_size, idx + 1]))\n",
    "        print(type(img_ndarr), img_ndarr.shape)\n",
    "        img = Image.fromarray(img_ndarr)\n",
    "        target = Image.fromarray(img_ndarr)\n",
    "        # tifffile.imshow(img_ndarr[:, :, [3, 2, 1]], figure=fig, subplot=subplot)\n",
    "    # plt.savefig('./sample-data/plot/{}.png'.format(step), bbox_inches='tight')\n",
    "    print('\\n')\n",
    "    for idx, item in enumerate(targets):\n",
    "        item = torch.squeeze(item, 0)\n",
    "#         img_ndarr = transform_multi.to_ndarray(item)\n",
    "        # subplot = int(''.join(str(x) for x in [1, batch_size, idx + 1]))\n",
    "        print('target', type(item), item.shape)\n",
    "        a = item.numpy()\n",
    "        img_new = a.astype(np.uint8)\n",
    "        target = Image.fromarray(img_new)\n",
    "#         target = Image.fromarray(item)\n",
    "        # tifffile.imshow(img_ndarr[:, :, [3, 2, 1]], figure=fig, subplot=subplot)\n",
    "    # plt.savefig('./sample-data/plot/{}.png'.format(step), bbox_inches='tight')\n",
    "    print('\\n')\n",
    "img"
   ]
  },
  {
   "cell_type": "code",
   "execution_count": 3,
   "metadata": {},
   "outputs": [
    {
     "data": {
      "text/plain": [
       "(200, 200)"
      ]
     },
     "execution_count": 3,
     "metadata": {},
     "output_type": "execute_result"
    }
   ],
   "source": [
    "item.numpy().shape"
   ]
  },
  {
   "cell_type": "code",
   "execution_count": 4,
   "metadata": {
    "collapsed": true
   },
   "outputs": [],
   "source": [
    "a = item.numpy()\n",
    "img_new = a.astype(np.uint8)"
   ]
  },
  {
   "cell_type": "code",
   "execution_count": 5,
   "metadata": {
    "scrolled": false
   },
   "outputs": [
    {
     "data": {
      "image/png": "[encoded data removed]",
      "text/plain": [
       "<PIL.Image.Image image mode=L size=200x200 at 0x7F39B42F5A90>"
      ]
     },
     "execution_count": 5,
     "metadata": {},
     "output_type": "execute_result"
    }
   ],
   "source": [
    "Image.fromarray(img_new)"
   ]
  },
  {
   "cell_type": "code",
   "execution_count": 6,
   "metadata": {
    "collapsed": true
   },
   "outputs": [],
   "source": [
    "img.save(\"mesh_trans.png\",format==\".png\")"
   ]
  },
  {
   "cell_type": "code",
   "execution_count": 7,
   "metadata": {},
   "outputs": [
    {
     "data": {
      "text/plain": [
       "[255, 15, 0, 2]"
      ]
     },
     "execution_count": 7,
     "metadata": {},
     "output_type": "execute_result"
    }
   ],
   "source": [
    "\n",
    "img=img_new\n",
    "value = []\n",
    "for i in range(np.array(img).shape[0]):\n",
    "    for j in range(np.array(img).shape[1]):\n",
    "        pixel = np.array(img)[i,j]\n",
    "        if pixel not in value:\n",
    "            value.append(pixel)\n",
    "            \n",
    "value"
   ]
  },
  {
   "cell_type": "code",
   "execution_count": 8,
   "metadata": {},
   "outputs": [
    {
     "data": {
      "text/plain": [
       "array([[255,  15,  15, ...,   0,   0,   0],\n",
       "       [255,  15,  15, ...,   0,   0,   0],\n",
       "       [255,  15,  15, ...,   0,   0,   0],\n",
       "       ..., \n",
       "       [  0,   0,   0, ...,   2,   2,   2],\n",
       "       [  0,   0,   0, ...,   2,   2,   2],\n",
       "       [  0,   0,   0, ...,   2,   2,   2]], dtype=uint8)"
      ]
     },
     "execution_count": 8,
     "metadata": {},
     "output_type": "execute_result"
    }
   ],
   "source": [
    "img"
   ]
  },
  {
   "cell_type": "markdown",
   "metadata": {},
   "source": [
    "# tiff image"
   ]
  },
  {
   "cell_type": "code",
   "execution_count": null,
   "metadata": {},
   "outputs": [],
   "source": [
    "import torch\n",
    "from torch.utils.data import Dataset, DataLoader\n",
    "from skimage.external import tifffile\n",
    "from PIL import Image\n",
    "import numpy as np\n",
    "# import matplotlib.pyplot as plt\n",
    "from torchvision_multi import transform_multi\n",
    "from torchvision_multi.datasets import image_loader\n",
    "\n",
    "\n",
    "fig = plt.figure(figsize=(20, 6))\n",
    "# img_tif = tifffile.imread('./sample-data/7-channel.tif')\n",
    "# img_tif_addnoise = transform_multi.noise(img_tif,16,0,0.001)\n",
    "#\n",
    "# img_jpg = Image.open('./sample-data/2007_000129.jpg')\n",
    "# img_tif_addnoise = transform_multi.noise(img_tif,16)\n",
    "\n",
    "\n",
    "batch_size = 2\n",
    "transform = transform_multi.SegCompose([\n",
    "#     transform_multi.SegRandomRotate(1),\n",
    "#     transform_multi.SegRandomFlip(),\n",
    "#        transform_multi.SegPad([(30,30),(30,30),(0,0)],\"reflect\"),\n",
    "#     transform_multi.SegRandomCrop((400,10)), \n",
    "#     transform_multi.SegRandomShift(1, 30, 30),\n",
    "#       transform_multi.SegRandomNoise(1,8,0,1),\n",
    "#       transform_multi.SegGaussianBlur(1),\n",
    "       transform_multi.SegResize((300,300)),\n",
    "#     transform_multi.SegPieceTransfor(1,warp_left_right=30,warp_up_down=30),\n",
    "    transform_multi.SegToTensor()\n",
    "\n",
    "#     transform_multi.Lambda(lambda x: transform_multi.to_tensor(x))\n",
    "])\n",
    "\n",
    "trainset = image_loader.SemanticSegmentationLoader(\n",
    "    rootdir='./sample-data/', lstpath='./sample-data/segmentation_tiff.lst',\n",
    "    filetype='tif', transform=transform,\n",
    ")\n",
    "trainloader = DataLoader(dataset=trainset, batch_size=batch_size, shuffle=False)\n",
    "\n",
    "for step, (inputs, targets) in enumerate(trainloader):\n",
    "    #     print('batch: {} ........'.format(idx))\n",
    "    #     print(type(images), images.shape)\n",
    "    #     print(type(targets), targets.shape)\n",
    "\n",
    "    # Variable, cuda\n",
    "    # net feed forward\n",
    "    # loss\n",
    "    # back propagation\n",
    "\n",
    "    # plot\n",
    "    print(inputs.shape)\n",
    "    for idx, item in enumerate(inputs):\n",
    "        item = torch.squeeze(item, 0)\n",
    "        img_ndarr = transform_multi.to_ndarray(item)\n",
    "        subplot = int(''.join(str(x) for x in [1, batch_size, idx + 1]))\n",
    "        print(type(img_ndarr), img_ndarr.shape)\n",
    "#         img = Image.fromarray(img_ndarr)\n",
    "#         target = Image.fromarray(img_ndarr)\n",
    "        tifffile.imshow(img_ndarr[:, :, [3, 2, 1]], figure=fig, subplot=subplot)\n",
    "    # plt.savefig('./sample-data/plot/{}.png'.format(step), bbox_inches='tight')\n",
    "    print('\\n')\n",
    "    for idx, item in enumerate(targets):\n",
    "        item = torch.squeeze(item, 0)\n",
    "#         img_ndarr = transform_multi.to_ndarray(item)\n",
    "        # subplot = int(''.join(str(x) for x in [1, batch_size, idx + 1]))\n",
    "        item.numpy().dtype\n",
    "        img = Image.fromarray(item.numpy())\n",
    "        print(type(img), img.size)\n",
    "#         target = Image.fromarray(img)\n",
    "        # tifffile.imshow(img_ndarr[:, :, [3, 2, 1]], figure=fig, subplot=subplot)\n",
    "    # plt.savefig('./sample-data/plot/{}.png'.format(step), bbox_inches='tight')\n",
    "    print('\\n')\n",
    "img"
   ]
  },
  {
   "cell_type": "code",
   "execution_count": null,
   "metadata": {
    "collapsed": true
   },
   "outputs": [],
   "source": []
  }
 ],
 "metadata": {
  "kernelspec": {
   "display_name": "Python 3",
   "language": "python",
   "name": "python3"
  },
  "language_info": {
   "codemirror_mode": {
    "name": "ipython",
    "version": 3
   },
   "file_extension": ".py",
   "mimetype": "text/x-python",
   "name": "python",
   "nbconvert_exporter": "python",
   "pygments_lexer": "ipython3",
   "version": "3.5.2"
  }
 },
 "nbformat": 4,
 "nbformat_minor": 2
}
